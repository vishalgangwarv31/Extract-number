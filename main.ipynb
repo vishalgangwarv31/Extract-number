{
 "cells": [
  {
   "cell_type": "code",
   "execution_count": 1,
   "id": "fae59118-6ac7-4fe3-ab2c-c7e853f94f5d",
   "metadata": {},
   "outputs": [],
   "source": [
    "import pytesseract\n",
    "import re\n",
    "from PIL import Image\n",
    "import os"
   ]
  },
  {
   "cell_type": "code",
   "execution_count": 18,
   "id": "4d187ba5-67b0-4219-8cdc-db13d118835a",
   "metadata": {},
   "outputs": [],
   "source": [
    "def extract_phone_number(image_path):\n",
    "    extracted_text = pytesseract.image_to_string(Image.open(image_path))\n",
    "\n",
    "    phone_pattern = r'\\+91-\\d{10}'\n",
    "    email_pattern = r'\\b[A-Za-z0-9._%+-]+@[A-Za-z0-9.-]+\\.[A-Z|a-z]{2,}\\b'\n",
    "\n",
    "    phone_numbers = re.findall(phone_pattern, extracted_text)\n",
    "    email =  re.findall(email_pattern, extracted_text)\n",
    "\n",
    "    # Return the first phone number found (if any)\n",
    "    if phone_numbers and email:\n",
    "        return phone_numbers[0] , email[0]\n",
    "    elif email:\n",
    "        return \"false\" , email[0]\n",
    "    elif phone_numbers:\n",
    "        return phone_numbers[0] , \"false\"\n",
    "    else:\n",
    "        return \"False\",\"false\""
   ]
  },
  {
   "cell_type": "code",
   "execution_count": null,
   "id": "1671f2db-2fdf-4dd4-b3db-d2c79523e3db",
   "metadata": {
    "scrolled": true
   },
   "outputs": [],
   "source": []
  },
  {
   "cell_type": "code",
   "execution_count": 24,
   "id": "bd8a90f6-c367-42dd-9876-4e0e049310e3",
   "metadata": {},
   "outputs": [],
   "source": [
    "folder_path = 'images'\n",
    "\n",
    "output_file_path = 'output.txt'\n",
    "with open(output_file_path, 'w') as output_file:\n",
    "    for filename in os.listdir(folder_path):\n",
    "        if filename.endswith('.jpg') or filename.endswith('.png') or filename.endswith('.jfif'):\n",
    "            image_path = os.path.join(folder_path, filename)\n",
    "            \n",
    "            phone_number,email = extract_phone_number(image_path)\n",
    "            output_file.write(f\"Image: {filename}, Phone Number: {phone_number} , Email: {email}\\n\")"
   ]
  },
  {
   "cell_type": "code",
   "execution_count": null,
   "id": "2a92a490-8292-43d8-bf5d-321f1a134863",
   "metadata": {},
   "outputs": [],
   "source": []
  }
 ],
 "metadata": {
  "kernelspec": {
   "display_name": "Python 3 (ipykernel)",
   "language": "python",
   "name": "python3"
  },
  "language_info": {
   "codemirror_mode": {
    "name": "ipython",
    "version": 3
   },
   "file_extension": ".py",
   "mimetype": "text/x-python",
   "name": "python",
   "nbconvert_exporter": "python",
   "pygments_lexer": "ipython3",
   "version": "3.12.2"
  }
 },
 "nbformat": 4,
 "nbformat_minor": 5
}
